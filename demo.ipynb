{
 "cells": [
  {
   "cell_type": "code",
   "execution_count": null,
   "metadata": {},
   "outputs": [],
   "source": [
    "# This code can only run on colab\n",
    "# model training\n",
    "from google.colab import drive\n",
    "drive.mount('/content/drive')\n",
    "!pip install simplejson\n",
    "%run /content/drive/MyDrive/HumanActivityRecognition-master/main.py"
   ]
  },
  {
   "cell_type": "code",
   "execution_count": null,
   "metadata": {},
   "outputs": [],
   "source": [
    "# model test\n",
    "%run /content/drive/MyDrive/HumanActivityRecognition-master/test_model.py"
   ]
  },
  {
   "cell_type": "code",
   "execution_count": 12,
   "metadata": {},
   "outputs": [],
   "source": [
    "from models.svcca import svd_reduction\n",
    "from models.cca import get_cca_similarity#, cca_distance\n",
    "import torch\n",
    "\n",
    "def get_similarity(epoch1, epoch2, l1, l2,dataset1, dataset2):\n",
    "    '''\n",
    "    This code can run after training the model and specifying the args.svcca_epochs.\n",
    "    Compare the representation of layer l1 from dataset1 and layer l2 from dataset2 at epoch1\n",
    "    or compare the representation of layer l1 from dataset1 at epoch1 and at epoch 2\n",
    "    Return the svcca similarity\n",
    "    '''\n",
    "    layer1 = torch.load('/content/drive/MyDrive/' + dataset1 + '/Epoch'+ str(epoch1) + l1 +'.pt')\n",
    "    layer2 = torch.load('/content/drive/MyDrive/' + dataset2 + '/Epoch'+ str(epoch2) + l2 +'.pt')\n",
    "    layer1 = svd_reduction(layer1)\n",
    "    layer2 = svd_reduction(layer2)  \n",
    "    acts1 = layer1.cpu().detach().numpy()\n",
    "    acts2 = layer2.cpu().detach().numpy()\n",
    "\n",
    "    # acts1 = acts1 - np.mean(acts1, axis=1)\n",
    "    \n",
    "    if l1 == 'fc' and l2 == 'fc':\n",
    "        f_results = get_cca_similarity(acts1.T, acts2.T, epsilon=1e-10, verbose=False, compute_dirns=True)\n",
    "        return sum(f_results['cca_coef1'])/len(f_results['cca_coef1'])\n",
    "    elif l2 == 'fc':\n",
    "        acts1 = np.mean(acts1, axis=2)\n",
    "        return cca_distance(acts1, acts2)\n",
    "    elif l1 == 'fc':\n",
    "        acts2 = np.mean(acts2, axis=2)\n",
    "        return cca_distance(acts1, acts2)  \n",
    "    elif acts1.shape[-1] != acts2.shape[-1]:\n",
    "        num_datapoints, h, channels = acts1.shape\n",
    "        f_acts1 = acts1.reshape((channels*h, num_datapoints))\n",
    "\n",
    "        num_datapoints, h, channels = acts2.shape\n",
    "        f_acts2 = acts2.reshape((channels*h, num_datapoints))\n",
    "\n",
    "        return cca_distance(f_acts1.T, f_acts2.T)\n",
    "    else:\n",
    "        num_datapoints, channels, h = acts1.shape\n",
    "        f_acts1 = acts1.reshape((num_datapoints*h, channels))\n",
    "\n",
    "        num_datapoints, channels,h = acts2.shape\n",
    "        f_acts2 = acts2.reshape((num_datapoints*h, channels))\n",
    "\n",
    "        f_results = get_cca_similarity(f_acts1.T, f_acts2.T, epsilon=1e-10, verbose=False, compute_dirns=True)\n",
    "        return sum(f_results['cca_coef1'])/len(f_results['cca_coef1'])\n",
    "\n",
    "\n",
    "\n",
    "# get_similarity(150,150, 'layer1_1_conv1', 'layer1_1_conv1', 'Rep_daph', 'Rep_pamap2')"
   ]
  },
  {
   "cell_type": "markdown",
   "metadata": {},
   "source": [
    "## Heatmap plot"
   ]
  },
  {
   "cell_type": "code",
   "execution_count": null,
   "metadata": {},
   "outputs": [],
   "source": [
    "import seaborn as sns\n",
    "import matplotlib.pyplot as plt\n",
    "import pandas as pd\n",
    "\n",
    "def heatMapCorr(layer_names = [], idxs = [], dataset = None):\n",
    "    corr_arr = []\n",
    "    for layer_name1 in layer_names:\n",
    "        corr = []\n",
    "        for layer_name2 in layer_names:\n",
    "            r = get_similarity(idxs[0], idxs[1], layer_name1, layer_name2,dataset)\n",
    "            print(layer_name1 + layer_name2 + \" The SVCCA score is \" + str(r))\n",
    "            corr.append(r)\n",
    "        corr_arr.append(corr)\n",
    "\n",
    "    return corr_arr\n",
    "\n",
    "layer_names = ['conv1', 'layer1_0_conv1', 'layer1_0_conv2',\n",
    "                        'layer1_1_conv1', 'layer1_1_conv2',\n",
    "                        'layer2_0_conv1', 'layer2_0_conv2',\n",
    "                        'layer2_1_conv1', 'layer2_1_conv2',\n",
    "                        'layer3_0_conv1', 'layer3_0_conv2',\n",
    "                        'layer3_1_conv1', 'layer3_1_conv2',\n",
    "                        'layer4_0_conv1', 'layer4_0_conv2',\n",
    "                        'layer4_1_conv1', 'layer4_1_conv2',\n",
    "                        'fc']\n",
    "\n",
    "idxs = [[10,11],[150,151],[397,398]]\n",
    "\n",
    "corr_arr = heatMapCorr(layer_names, idxs[1], dataset='Rep_opp')"
   ]
  },
  {
   "cell_type": "code",
   "execution_count": null,
   "metadata": {},
   "outputs": [],
   "source": [
    "\n",
    "corr = corr_arr\n",
    "df = pd.DataFrame(corr_arr)\n",
    "df.columns = layer_names\n",
    "df.index = layer_names\n",
    "\n",
    "f, ax1 = plt.subplots(figsize = (10, 8))\n",
    "# cubehelix map \n",
    "cmap = sns.cubehelix_palette(start = 1.5, rot = 3, gamma=0.8, as_cmap = True)\n",
    "sns.heatmap(df, linewidths = 0.05, ax = ax1, vmax=1, vmin=0, cmap='YlOrRd')\n",
    "ax1.set_title('100% trained')\n",
    "ax1.set_xlabel('layers')\n",
    "ax1.set_xticklabels([]) \n",
    "ax1.set_ylabel('layers')\n",
    "f.savefig('100%trained.jpg', bbox_inches='tight')"
   ]
  }
 ],
 "metadata": {
  "kernelspec": {
   "display_name": "Python 3",
   "language": "python",
   "name": "python3"
  },
  "language_info": {
   "codemirror_mode": {
    "name": "ipython",
    "version": 3
   },
   "file_extension": ".py",
   "mimetype": "text/x-python",
   "name": "python",
   "nbconvert_exporter": "python",
   "pygments_lexer": "ipython3",
   "version": "3.8.5"
  }
 },
 "nbformat": 4,
 "nbformat_minor": 4
}
